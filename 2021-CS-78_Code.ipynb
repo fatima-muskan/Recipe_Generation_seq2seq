{
  "cells": [
    {
      "cell_type": "code",
      "execution_count": null,
      "metadata": {
        "colab": {
          "base_uri": "https://localhost:8080/"
        },
        "id": "dIgmEpmA6EPe",
        "outputId": "cb74b695-49e2-4edf-b9be-fd97f647dc0d"
      },
      "outputs": [
        {
          "output_type": "stream",
          "name": "stdout",
          "text": [
            "Mounted at /content/drive\n"
          ]
        }
      ],
      "source": [
        "from google.colab import drive\n",
        "drive.mount('/content/drive')"
      ]
    },
    {
      "cell_type": "code",
      "execution_count": null,
      "metadata": {
        "colab": {
          "base_uri": "https://localhost:8080/"
        },
        "id": "3sbcuAEL6zFW",
        "outputId": "b02c3fda-9f4e-4b5e-8330-15b0d1ff83eb"
      },
      "outputs": [
        {
          "output_type": "stream",
          "name": "stdout",
          "text": [
            "/content/drive/MyDrive/recipe_generation_model.h5\n"
          ]
        }
      ],
      "source": [
        "!ls /content/drive/MyDrive/recipe_generation_model.h5"
      ]
    },
    {
      "cell_type": "code",
      "execution_count": null,
      "metadata": {
        "id": "agyu8iB7BCRO"
      },
      "outputs": [],
      "source": [
        "import pandas as pd\n",
        "import numpy as np\n",
        "from sklearn.model_selection import train_test_split\n",
        "from tensorflow.keras.preprocessing.text import Tokenizer\n",
        "from tensorflow.keras.preprocessing.sequence import pad_sequences\n",
        "from tensorflow.keras.models import Model, load_model\n",
        "from tensorflow.keras.layers import Input, LSTM, Embedding, Dense\n",
        "from sklearn.metrics import precision_score, recall_score, f1_score, classification_report"
      ]
    },
    {
      "cell_type": "code",
      "execution_count": null,
      "metadata": {
        "colab": {
          "base_uri": "https://localhost:8080/"
        },
        "id": "gB90DtdNBFvC",
        "outputId": "e6d54184-1edb-43e6-c107-af0918e681cc"
      },
      "outputs": [
        {
          "output_type": "stream",
          "name": "stderr",
          "text": [
            "WARNING:absl:Compiled the loaded model, but the compiled metrics have yet to be built. `model.compile_metrics` will be empty until you train or evaluate the model.\n"
          ]
        },
        {
          "output_type": "stream",
          "name": "stdout",
          "text": [
            "\u001b[1m1/1\u001b[0m \u001b[32m━━━━━━━━━━━━━━━━━━━━\u001b[0m\u001b[37m\u001b[0m \u001b[1m1s\u001b[0m 524ms/step\n",
            "\u001b[1m1/1\u001b[0m \u001b[32m━━━━━━━━━━━━━━━━━━━━\u001b[0m\u001b[37m\u001b[0m \u001b[1m0s\u001b[0m 356ms/step\n",
            "\u001b[1m1/1\u001b[0m \u001b[32m━━━━━━━━━━━━━━━━━━━━\u001b[0m\u001b[37m\u001b[0m \u001b[1m0s\u001b[0m 37ms/step\n",
            "\u001b[1m1/1\u001b[0m \u001b[32m━━━━━━━━━━━━━━━━━━━━\u001b[0m\u001b[37m\u001b[0m \u001b[1m0s\u001b[0m 37ms/step\n",
            "\u001b[1m1/1\u001b[0m \u001b[32m━━━━━━━━━━━━━━━━━━━━\u001b[0m\u001b[37m\u001b[0m \u001b[1m0s\u001b[0m 34ms/step\n",
            "\u001b[1m1/1\u001b[0m \u001b[32m━━━━━━━━━━━━━━━━━━━━\u001b[0m\u001b[37m\u001b[0m \u001b[1m0s\u001b[0m 34ms/step\n",
            "\u001b[1m1/1\u001b[0m \u001b[32m━━━━━━━━━━━━━━━━━━━━\u001b[0m\u001b[37m\u001b[0m \u001b[1m0s\u001b[0m 44ms/step\n",
            "\u001b[1m1/1\u001b[0m \u001b[32m━━━━━━━━━━━━━━━━━━━━\u001b[0m\u001b[37m\u001b[0m \u001b[1m0s\u001b[0m 34ms/step\n",
            "\u001b[1m1/1\u001b[0m \u001b[32m━━━━━━━━━━━━━━━━━━━━\u001b[0m\u001b[37m\u001b[0m \u001b[1m0s\u001b[0m 36ms/step\n",
            "\u001b[1m1/1\u001b[0m \u001b[32m━━━━━━━━━━━━━━━━━━━━\u001b[0m\u001b[37m\u001b[0m \u001b[1m0s\u001b[0m 38ms/step\n",
            "\u001b[1m1/1\u001b[0m \u001b[32m━━━━━━━━━━━━━━━━━━━━\u001b[0m\u001b[37m\u001b[0m \u001b[1m0s\u001b[0m 34ms/step\n",
            "\u001b[1m1/1\u001b[0m \u001b[32m━━━━━━━━━━━━━━━━━━━━\u001b[0m\u001b[37m\u001b[0m \u001b[1m0s\u001b[0m 35ms/step\n",
            "\u001b[1m1/1\u001b[0m \u001b[32m━━━━━━━━━━━━━━━━━━━━\u001b[0m\u001b[37m\u001b[0m \u001b[1m0s\u001b[0m 34ms/step\n",
            "\u001b[1m1/1\u001b[0m \u001b[32m━━━━━━━━━━━━━━━━━━━━\u001b[0m\u001b[37m\u001b[0m \u001b[1m0s\u001b[0m 36ms/step\n",
            "\u001b[1m1/1\u001b[0m \u001b[32m━━━━━━━━━━━━━━━━━━━━\u001b[0m\u001b[37m\u001b[0m \u001b[1m0s\u001b[0m 35ms/step\n",
            "\u001b[1m1/1\u001b[0m \u001b[32m━━━━━━━━━━━━━━━━━━━━\u001b[0m\u001b[37m\u001b[0m \u001b[1m0s\u001b[0m 41ms/step\n",
            "\u001b[1m1/1\u001b[0m \u001b[32m━━━━━━━━━━━━━━━━━━━━\u001b[0m\u001b[37m\u001b[0m \u001b[1m0s\u001b[0m 38ms/step\n",
            "\u001b[1m1/1\u001b[0m \u001b[32m━━━━━━━━━━━━━━━━━━━━\u001b[0m\u001b[37m\u001b[0m \u001b[1m0s\u001b[0m 34ms/step\n",
            "\u001b[1m1/1\u001b[0m \u001b[32m━━━━━━━━━━━━━━━━━━━━\u001b[0m\u001b[37m\u001b[0m \u001b[1m0s\u001b[0m 34ms/step\n",
            "\u001b[1m1/1\u001b[0m \u001b[32m━━━━━━━━━━━━━━━━━━━━\u001b[0m\u001b[37m\u001b[0m \u001b[1m0s\u001b[0m 58ms/step\n",
            "\u001b[1m1/1\u001b[0m \u001b[32m━━━━━━━━━━━━━━━━━━━━\u001b[0m\u001b[37m\u001b[0m \u001b[1m0s\u001b[0m 58ms/step\n",
            "\u001b[1m1/1\u001b[0m \u001b[32m━━━━━━━━━━━━━━━━━━━━\u001b[0m\u001b[37m\u001b[0m \u001b[1m0s\u001b[0m 55ms/step\n",
            "\u001b[1m1/1\u001b[0m \u001b[32m━━━━━━━━━━━━━━━━━━━━\u001b[0m\u001b[37m\u001b[0m \u001b[1m0s\u001b[0m 64ms/step\n",
            "\u001b[1m1/1\u001b[0m \u001b[32m━━━━━━━━━━━━━━━━━━━━\u001b[0m\u001b[37m\u001b[0m \u001b[1m0s\u001b[0m 60ms/step\n",
            "\u001b[1m1/1\u001b[0m \u001b[32m━━━━━━━━━━━━━━━━━━━━\u001b[0m\u001b[37m\u001b[0m \u001b[1m0s\u001b[0m 64ms/step\n",
            "\u001b[1m1/1\u001b[0m \u001b[32m━━━━━━━━━━━━━━━━━━━━\u001b[0m\u001b[37m\u001b[0m \u001b[1m0s\u001b[0m 64ms/step\n",
            "\u001b[1m1/1\u001b[0m \u001b[32m━━━━━━━━━━━━━━━━━━━━\u001b[0m\u001b[37m\u001b[0m \u001b[1m0s\u001b[0m 61ms/step\n",
            "\u001b[1m1/1\u001b[0m \u001b[32m━━━━━━━━━━━━━━━━━━━━\u001b[0m\u001b[37m\u001b[0m \u001b[1m0s\u001b[0m 63ms/step\n",
            "\u001b[1m1/1\u001b[0m \u001b[32m━━━━━━━━━━━━━━━━━━━━\u001b[0m\u001b[37m\u001b[0m \u001b[1m0s\u001b[0m 56ms/step\n",
            "\u001b[1m1/1\u001b[0m \u001b[32m━━━━━━━━━━━━━━━━━━━━\u001b[0m\u001b[37m\u001b[0m \u001b[1m0s\u001b[0m 62ms/step\n",
            "\u001b[1m1/1\u001b[0m \u001b[32m━━━━━━━━━━━━━━━━━━━━\u001b[0m\u001b[37m\u001b[0m \u001b[1m0s\u001b[0m 53ms/step\n",
            "\u001b[1m1/1\u001b[0m \u001b[32m━━━━━━━━━━━━━━━━━━━━\u001b[0m\u001b[37m\u001b[0m \u001b[1m0s\u001b[0m 53ms/step\n",
            "\u001b[1m1/1\u001b[0m \u001b[32m━━━━━━━━━━━━━━━━━━━━\u001b[0m\u001b[37m\u001b[0m \u001b[1m0s\u001b[0m 58ms/step\n",
            "\u001b[1m1/1\u001b[0m \u001b[32m━━━━━━━━━━━━━━━━━━━━\u001b[0m\u001b[37m\u001b[0m \u001b[1m0s\u001b[0m 56ms/step\n",
            "\u001b[1m1/1\u001b[0m \u001b[32m━━━━━━━━━━━━━━━━━━━━\u001b[0m\u001b[37m\u001b[0m \u001b[1m0s\u001b[0m 56ms/step\n",
            "\u001b[1m1/1\u001b[0m \u001b[32m━━━━━━━━━━━━━━━━━━━━\u001b[0m\u001b[37m\u001b[0m \u001b[1m0s\u001b[0m 58ms/step\n",
            "\u001b[1m1/1\u001b[0m \u001b[32m━━━━━━━━━━━━━━━━━━━━\u001b[0m\u001b[37m\u001b[0m \u001b[1m0s\u001b[0m 61ms/step\n",
            "\u001b[1m1/1\u001b[0m \u001b[32m━━━━━━━━━━━━━━━━━━━━\u001b[0m\u001b[37m\u001b[0m \u001b[1m0s\u001b[0m 61ms/step\n",
            "\u001b[1m1/1\u001b[0m \u001b[32m━━━━━━━━━━━━━━━━━━━━\u001b[0m\u001b[37m\u001b[0m \u001b[1m0s\u001b[0m 58ms/step\n",
            "\u001b[1m1/1\u001b[0m \u001b[32m━━━━━━━━━━━━━━━━━━━━\u001b[0m\u001b[37m\u001b[0m \u001b[1m0s\u001b[0m 65ms/step\n",
            "\u001b[1m1/1\u001b[0m \u001b[32m━━━━━━━━━━━━━━━━━━━━\u001b[0m\u001b[37m\u001b[0m \u001b[1m0s\u001b[0m 65ms/step\n",
            "\u001b[1m1/1\u001b[0m \u001b[32m━━━━━━━━━━━━━━━━━━━━\u001b[0m\u001b[37m\u001b[0m \u001b[1m0s\u001b[0m 63ms/step\n",
            "\u001b[1m1/1\u001b[0m \u001b[32m━━━━━━━━━━━━━━━━━━━━\u001b[0m\u001b[37m\u001b[0m \u001b[1m0s\u001b[0m 96ms/step\n",
            "\u001b[1m1/1\u001b[0m \u001b[32m━━━━━━━━━━━━━━━━━━━━\u001b[0m\u001b[37m\u001b[0m \u001b[1m0s\u001b[0m 117ms/step\n",
            "\u001b[1m1/1\u001b[0m \u001b[32m━━━━━━━━━━━━━━━━━━━━\u001b[0m\u001b[37m\u001b[0m \u001b[1m0s\u001b[0m 73ms/step\n",
            "\u001b[1m1/1\u001b[0m \u001b[32m━━━━━━━━━━━━━━━━━━━━\u001b[0m\u001b[37m\u001b[0m \u001b[1m0s\u001b[0m 57ms/step\n",
            "\u001b[1m1/1\u001b[0m \u001b[32m━━━━━━━━━━━━━━━━━━━━\u001b[0m\u001b[37m\u001b[0m \u001b[1m0s\u001b[0m 37ms/step\n",
            "\u001b[1m1/1\u001b[0m \u001b[32m━━━━━━━━━━━━━━━━━━━━\u001b[0m\u001b[37m\u001b[0m \u001b[1m0s\u001b[0m 122ms/step\n",
            "\u001b[1m1/1\u001b[0m \u001b[32m━━━━━━━━━━━━━━━━━━━━\u001b[0m\u001b[37m\u001b[0m \u001b[1m0s\u001b[0m 53ms/step\n",
            "\u001b[1m1/1\u001b[0m \u001b[32m━━━━━━━━━━━━━━━━━━━━\u001b[0m\u001b[37m\u001b[0m \u001b[1m0s\u001b[0m 39ms/step\n",
            "\u001b[1m1/1\u001b[0m \u001b[32m━━━━━━━━━━━━━━━━━━━━\u001b[0m\u001b[37m\u001b[0m \u001b[1m0s\u001b[0m 53ms/step\n",
            "\u001b[1m1/1\u001b[0m \u001b[32m━━━━━━━━━━━━━━━━━━━━\u001b[0m\u001b[37m\u001b[0m \u001b[1m0s\u001b[0m 40ms/step\n",
            "\u001b[1m1/1\u001b[0m \u001b[32m━━━━━━━━━━━━━━━━━━━━\u001b[0m\u001b[37m\u001b[0m \u001b[1m0s\u001b[0m 35ms/step\n",
            "Generated Recipe: in a large bowl combine the pan and cook until the pan and cook until the pan and cook until the pan and cook until the pan and cook until the pan and cook until the pan and cook until the pan and cook until the pan and cook until the\n"
          ]
        }
      ],
      "source": [
        "def load_data(file_path):\n",
        "    df = pd.read_csv(file_path)\n",
        "    df = df.dropna()\n",
        "\n",
        "    ingredients = df['ingredients'].values\n",
        "    instructions = df['instructions'].values\n",
        "\n",
        "    return ingredients, instructions\n",
        "\n",
        "def preprocess_text(texts, tokenizer=None, max_len=50):\n",
        "    if tokenizer is None:\n",
        "        tokenizer = Tokenizer()\n",
        "        tokenizer.fit_on_texts(texts)\n",
        "\n",
        "    sequences = tokenizer.texts_to_sequences(texts)\n",
        "    padded_sequences = pad_sequences(sequences, maxlen=max_len, padding='post')\n",
        "\n",
        "    return padded_sequences, tokenizer\n",
        "\n",
        "# Model architecture\n",
        "def build_model(vocab_size_ing, vocab_size_ins, embedding_dim=128, lstm_units=256):\n",
        "    # Encoder\n",
        "    encoder_inputs = Input(shape=(None,))\n",
        "    encoder_embedding = Embedding(vocab_size_ing, embedding_dim)(encoder_inputs)\n",
        "    encoder_lstm = LSTM(lstm_units, return_state=True)\n",
        "    _, state_h, state_c = encoder_lstm(encoder_embedding)\n",
        "    encoder_states = [state_h, state_c]\n",
        "\n",
        "    # Decoder\n",
        "    decoder_inputs = Input(shape=(None,))\n",
        "    decoder_embedding = Embedding(vocab_size_ins, embedding_dim)(decoder_inputs)\n",
        "    decoder_lstm = LSTM(lstm_units, return_sequences=True, return_state=True)\n",
        "    decoder_outputs, _, _ = decoder_lstm(decoder_embedding, initial_state=encoder_states)\n",
        "    decoder_dense = Dense(vocab_size_ins, activation='softmax')\n",
        "    decoder_outputs = decoder_dense(decoder_outputs)\n",
        "\n",
        "    model = Model([encoder_inputs, decoder_inputs], decoder_outputs)\n",
        "    return model\n",
        "\n",
        "# Generate text using the trained model\n",
        "def generate_recipe(model, tokenizer_ing, tokenizer_ins, input_ingredients, max_len=50):\n",
        "    input_seq = tokenizer_ing.texts_to_sequences([input_ingredients])\n",
        "    input_seq = pad_sequences(input_seq, maxlen=max_len, padding='post')\n",
        "\n",
        "    # Ensure that the model returns states properly (assuming it's LSTM or GRU)\n",
        "    prediction_output = model.predict([input_seq, np.zeros((1, max_len))])\n",
        "\n",
        "    # Ensure model returns the correct output. If it's LSTM, prediction_output should have at least 3 elements.\n",
        "    if len(prediction_output) >= 3:\n",
        "        output_tokens, h, c = prediction_output[-3:]  # Last three outputs are tokens and states\n",
        "    else:\n",
        "        output_tokens = prediction_output\n",
        "        h, c = None, None  # No states if using a non-stateful model like GRU\n",
        "\n",
        "    target_seq = np.array([[tokenizer_ins.word_index['<start>']]])\n",
        "    stop_condition = False\n",
        "    generated_sequence = ''\n",
        "\n",
        "    while not stop_condition:\n",
        "        output_tokens = model.predict([input_seq, target_seq])\n",
        "\n",
        "        # Sample the next word\n",
        "        sampled_token_index = np.argmax(output_tokens[0, -1, :])\n",
        "        sampled_word = tokenizer_ins.index_word.get(sampled_token_index, '')\n",
        "\n",
        "        if sampled_word == '<end>' or len(generated_sequence.split()) > max_len:\n",
        "            stop_condition = True\n",
        "        else:\n",
        "            generated_sequence += ' ' + sampled_word\n",
        "\n",
        "        target_seq = np.array([[sampled_token_index]])\n",
        "        if h is not None and c is not None:\n",
        "            states_value = [h, c]  # Update states\n",
        "        else:\n",
        "            states_value = []  # No states for GRU or simple models\n",
        "\n",
        "    return generated_sequence.strip()\n",
        "\n",
        "# Main execution\n",
        "if __name__ == '__main__':\n",
        "    # Load data\n",
        "    file_path = '/content/drive/MyDrive/recipes_combined.csv'\n",
        "    ingredients, instructions = load_data(file_path)\n",
        "\n",
        "    # Preprocess text\n",
        "    max_len = 50\n",
        "    seq_ing, tokenizer_ing = preprocess_text(ingredients, max_len=max_len)\n",
        "    seq_ins, tokenizer_ins = preprocess_text(instructions, max_len=max_len)\n",
        "\n",
        "    # Add special tokens to tokenizer\n",
        "    tokenizer_ins.word_index['<start>'] = len(tokenizer_ins.word_index) + 1\n",
        "    tokenizer_ins.word_index['<end>'] = len(tokenizer_ins.word_index) + 1\n",
        "    tokenizer_ins.index_word[len(tokenizer_ins.word_index)] = '<start>'\n",
        "    tokenizer_ins.index_word[len(tokenizer_ins.word_index)] = '<end>'\n",
        "\n",
        "    # Add start and end tokens for instructions\n",
        "    start_token = tokenizer_ins.word_index['<start>']\n",
        "    end_token = tokenizer_ins.word_index['<end>']\n",
        "\n",
        "    processed_seq_ins = []\n",
        "    for seq in seq_ins:\n",
        "        truncated_seq = seq[:max_len - 2]  # Reserve space for <start> and <end> tokens\n",
        "        processed_seq = [start_token] + list(truncated_seq) + [end_token]\n",
        "        processed_seq_ins.append(processed_seq)\n",
        "\n",
        "    # Ensure all processed sequences are padded correctly\n",
        "    seq_ins = pad_sequences(processed_seq_ins, maxlen=max_len, padding='post', truncating='post')\n",
        "\n",
        "    # Split data\n",
        "    X_train, X_val, y_train, y_val = train_test_split(seq_ing, seq_ins, test_size=0.2, random_state=42)\n",
        "\n",
        "    # Build and compile model\n",
        "    vocab_size_ing = len(tokenizer_ing.word_index) + 1\n",
        "    vocab_size_ins = len(tokenizer_ins.word_index) + 1\n",
        "    model = build_model(vocab_size_ing, vocab_size_ins)\n",
        "    model.compile(optimizer='adam', loss='sparse_categorical_crossentropy', metrics=['accuracy'])\n",
        "\n",
        "\n",
        "     #Train model\n",
        "    y_train = pad_sequences(y_train, maxlen=max_len, padding='post')\n",
        "    y_val = pad_sequences(y_val, maxlen=max_len, padding='post')\n",
        "    model.fit(\n",
        "       [X_train, y_train[:, :-1]],\n",
        "        y_train[:, 1:][:, :, None],\n",
        "        batch_size=64,\n",
        "        epochs=10,\n",
        "        validation_data=([X_val, y_val[:, :-1]], y_val[:, 1:][:, :, None])\n",
        "    )\n",
        "\n",
        "    # Save the model\n",
        "    model.save('/content/drive/MyDrive/recipe_generation_model.h5')\n",
        "\n",
        "\n",
        "    # Load the model and test generation\n",
        "    model = load_model('/content/drive/MyDrive/recipe_generation_model.h5')\n",
        "    test_ingredients = \"onions potato tomato\"\n",
        "    generated_recipe = generate_recipe(model, tokenizer_ing, tokenizer_ins, test_ingredients, max_len=max_len)\n",
        "    print(\"Generated Recipe:\", generated_recipe)"
      ]
    }
  ],
  "metadata": {
    "colab": {
      "provenance": []
    },
    "kernelspec": {
      "display_name": "Python 3",
      "name": "python3"
    },
    "language_info": {
      "name": "python"
    }
  },
  "nbformat": 4,
  "nbformat_minor": 0
}